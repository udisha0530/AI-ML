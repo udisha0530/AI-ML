{
 "cells": [
  {
   "cell_type": "code",
   "execution_count": 2,
   "id": "343bb71f",
   "metadata": {},
   "outputs": [],
   "source": [
    "import pandas as pd"
   ]
  },
  {
   "cell_type": "code",
   "execution_count": 3,
   "id": "1585a04a",
   "metadata": {},
   "outputs": [],
   "source": [
    "data=pd.read_csv('h1b_kaggle.csv')\n"
   ]
  },
  {
   "cell_type": "code",
   "execution_count": 7,
   "id": "910d681e",
   "metadata": {},
   "outputs": [
    {
     "data": {
      "text/html": [
       "<div>\n",
       "<style scoped>\n",
       "    .dataframe tbody tr th:only-of-type {\n",
       "        vertical-align: middle;\n",
       "    }\n",
       "\n",
       "    .dataframe tbody tr th {\n",
       "        vertical-align: top;\n",
       "    }\n",
       "\n",
       "    .dataframe thead th {\n",
       "        text-align: right;\n",
       "    }\n",
       "</style>\n",
       "<table border=\"1\" class=\"dataframe\">\n",
       "  <thead>\n",
       "    <tr style=\"text-align: right;\">\n",
       "      <th></th>\n",
       "      <th>Unnamed: 0</th>\n",
       "      <th>CASE_STATUS</th>\n",
       "      <th>EMPLOYER_NAME</th>\n",
       "      <th>SOC_NAME</th>\n",
       "      <th>JOB_TITLE</th>\n",
       "      <th>FULL_TIME_POSITION</th>\n",
       "      <th>PREVAILING_WAGE</th>\n",
       "      <th>YEAR</th>\n",
       "      <th>WORKSITE</th>\n",
       "      <th>lon</th>\n",
       "      <th>lat</th>\n",
       "    </tr>\n",
       "  </thead>\n",
       "  <tbody>\n",
       "    <tr>\n",
       "      <th>0</th>\n",
       "      <td>1</td>\n",
       "      <td>CERTIFIED-WITHDRAWN</td>\n",
       "      <td>UNIVERSITY OF MICHIGAN</td>\n",
       "      <td>BIOCHEMISTS AND BIOPHYSICISTS</td>\n",
       "      <td>POSTDOCTORAL RESEARCH FELLOW</td>\n",
       "      <td>N</td>\n",
       "      <td>36067.0</td>\n",
       "      <td>2016.0</td>\n",
       "      <td>ANN ARBOR, MICHIGAN</td>\n",
       "      <td>-83.743038</td>\n",
       "      <td>42.280826</td>\n",
       "    </tr>\n",
       "    <tr>\n",
       "      <th>1</th>\n",
       "      <td>2</td>\n",
       "      <td>CERTIFIED-WITHDRAWN</td>\n",
       "      <td>GOODMAN NETWORKS, INC.</td>\n",
       "      <td>CHIEF EXECUTIVES</td>\n",
       "      <td>CHIEF OPERATING OFFICER</td>\n",
       "      <td>Y</td>\n",
       "      <td>242674.0</td>\n",
       "      <td>2016.0</td>\n",
       "      <td>PLANO, TEXAS</td>\n",
       "      <td>-96.698886</td>\n",
       "      <td>33.019843</td>\n",
       "    </tr>\n",
       "    <tr>\n",
       "      <th>2</th>\n",
       "      <td>3</td>\n",
       "      <td>CERTIFIED-WITHDRAWN</td>\n",
       "      <td>PORTS AMERICA GROUP, INC.</td>\n",
       "      <td>CHIEF EXECUTIVES</td>\n",
       "      <td>CHIEF PROCESS OFFICER</td>\n",
       "      <td>Y</td>\n",
       "      <td>193066.0</td>\n",
       "      <td>2016.0</td>\n",
       "      <td>JERSEY CITY, NEW JERSEY</td>\n",
       "      <td>-74.077642</td>\n",
       "      <td>40.728158</td>\n",
       "    </tr>\n",
       "    <tr>\n",
       "      <th>3</th>\n",
       "      <td>4</td>\n",
       "      <td>CERTIFIED-WITHDRAWN</td>\n",
       "      <td>GATES CORPORATION, A WHOLLY-OWNED SUBSIDIARY O...</td>\n",
       "      <td>CHIEF EXECUTIVES</td>\n",
       "      <td>REGIONAL PRESIDEN, AMERICAS</td>\n",
       "      <td>Y</td>\n",
       "      <td>220314.0</td>\n",
       "      <td>2016.0</td>\n",
       "      <td>DENVER, COLORADO</td>\n",
       "      <td>-104.990251</td>\n",
       "      <td>39.739236</td>\n",
       "    </tr>\n",
       "    <tr>\n",
       "      <th>4</th>\n",
       "      <td>5</td>\n",
       "      <td>WITHDRAWN</td>\n",
       "      <td>PEABODY INVESTMENTS CORP.</td>\n",
       "      <td>CHIEF EXECUTIVES</td>\n",
       "      <td>PRESIDENT MONGOLIA AND INDIA</td>\n",
       "      <td>Y</td>\n",
       "      <td>157518.4</td>\n",
       "      <td>2016.0</td>\n",
       "      <td>ST. LOUIS, MISSOURI</td>\n",
       "      <td>-90.199404</td>\n",
       "      <td>38.627003</td>\n",
       "    </tr>\n",
       "  </tbody>\n",
       "</table>\n",
       "</div>"
      ],
      "text/plain": [
       "   Unnamed: 0          CASE_STATUS  \\\n",
       "0           1  CERTIFIED-WITHDRAWN   \n",
       "1           2  CERTIFIED-WITHDRAWN   \n",
       "2           3  CERTIFIED-WITHDRAWN   \n",
       "3           4  CERTIFIED-WITHDRAWN   \n",
       "4           5            WITHDRAWN   \n",
       "\n",
       "                                       EMPLOYER_NAME  \\\n",
       "0                             UNIVERSITY OF MICHIGAN   \n",
       "1                             GOODMAN NETWORKS, INC.   \n",
       "2                          PORTS AMERICA GROUP, INC.   \n",
       "3  GATES CORPORATION, A WHOLLY-OWNED SUBSIDIARY O...   \n",
       "4                          PEABODY INVESTMENTS CORP.   \n",
       "\n",
       "                        SOC_NAME                     JOB_TITLE  \\\n",
       "0  BIOCHEMISTS AND BIOPHYSICISTS  POSTDOCTORAL RESEARCH FELLOW   \n",
       "1               CHIEF EXECUTIVES       CHIEF OPERATING OFFICER   \n",
       "2               CHIEF EXECUTIVES         CHIEF PROCESS OFFICER   \n",
       "3               CHIEF EXECUTIVES   REGIONAL PRESIDEN, AMERICAS   \n",
       "4               CHIEF EXECUTIVES  PRESIDENT MONGOLIA AND INDIA   \n",
       "\n",
       "  FULL_TIME_POSITION  PREVAILING_WAGE    YEAR                 WORKSITE  \\\n",
       "0                  N          36067.0  2016.0      ANN ARBOR, MICHIGAN   \n",
       "1                  Y         242674.0  2016.0             PLANO, TEXAS   \n",
       "2                  Y         193066.0  2016.0  JERSEY CITY, NEW JERSEY   \n",
       "3                  Y         220314.0  2016.0         DENVER, COLORADO   \n",
       "4                  Y         157518.4  2016.0      ST. LOUIS, MISSOURI   \n",
       "\n",
       "          lon        lat  \n",
       "0  -83.743038  42.280826  \n",
       "1  -96.698886  33.019843  \n",
       "2  -74.077642  40.728158  \n",
       "3 -104.990251  39.739236  \n",
       "4  -90.199404  38.627003  "
      ]
     },
     "execution_count": 7,
     "metadata": {},
     "output_type": "execute_result"
    }
   ],
   "source": [
    "data.head()"
   ]
  },
  {
   "cell_type": "markdown",
   "id": "0931a2e1",
   "metadata": {},
   "source": [
    "## Data Cleansing"
   ]
  },
  {
   "cell_type": "code",
   "execution_count": 10,
   "id": "0fd84c07",
   "metadata": {},
   "outputs": [
    {
     "data": {
      "text/plain": [
       "Unnamed: 0                 0\n",
       "CASE_STATUS               13\n",
       "EMPLOYER_NAME             59\n",
       "SOC_NAME               17734\n",
       "JOB_TITLE                 43\n",
       "FULL_TIME_POSITION        15\n",
       "PREVAILING_WAGE           85\n",
       "YEAR                      13\n",
       "WORKSITE                   0\n",
       "lon                   107242\n",
       "lat                   107242\n",
       "dtype: int64"
      ]
     },
     "execution_count": 10,
     "metadata": {},
     "output_type": "execute_result"
    }
   ],
   "source": [
    "data.isna().sum()"
   ]
  },
  {
   "cell_type": "code",
   "execution_count": 31,
   "id": "f0313e72",
   "metadata": {},
   "outputs": [],
   "source": [
    "data.fillna(0,inplace=True)\n",
    "data.drop_duplicates(inplace=True)"
   ]
  },
  {
   "cell_type": "code",
   "execution_count": 14,
   "id": "d983ed9b",
   "metadata": {},
   "outputs": [
    {
     "data": {
      "text/plain": [
       "Unnamed: 0            0\n",
       "CASE_STATUS           0\n",
       "EMPLOYER_NAME         0\n",
       "SOC_NAME              0\n",
       "JOB_TITLE             0\n",
       "FULL_TIME_POSITION    0\n",
       "PREVAILING_WAGE       0\n",
       "YEAR                  0\n",
       "WORKSITE              0\n",
       "lon                   0\n",
       "lat                   0\n",
       "dtype: int64"
      ]
     },
     "execution_count": 14,
     "metadata": {},
     "output_type": "execute_result"
    }
   ],
   "source": [
    "data.isna().sum()"
   ]
  },
  {
   "cell_type": "code",
   "execution_count": 4,
   "id": "72756d54",
   "metadata": {},
   "outputs": [
    {
     "data": {
      "text/html": [
       "<div>\n",
       "<style scoped>\n",
       "    .dataframe tbody tr th:only-of-type {\n",
       "        vertical-align: middle;\n",
       "    }\n",
       "\n",
       "    .dataframe tbody tr th {\n",
       "        vertical-align: top;\n",
       "    }\n",
       "\n",
       "    .dataframe thead th {\n",
       "        text-align: right;\n",
       "    }\n",
       "</style>\n",
       "<table border=\"1\" class=\"dataframe\">\n",
       "  <thead>\n",
       "    <tr style=\"text-align: right;\">\n",
       "      <th></th>\n",
       "      <th>Unnamed: 0</th>\n",
       "      <th>CASE_STATUS</th>\n",
       "      <th>EMPLOYER_NAME</th>\n",
       "      <th>SOC_NAME</th>\n",
       "      <th>JOB_TITLE</th>\n",
       "      <th>FULL_TIME_POSITION</th>\n",
       "      <th>PREVAILING_WAGE</th>\n",
       "      <th>YEAR</th>\n",
       "      <th>WORKSITE</th>\n",
       "      <th>lon</th>\n",
       "      <th>lat</th>\n",
       "    </tr>\n",
       "  </thead>\n",
       "  <tbody>\n",
       "    <tr>\n",
       "      <th>0</th>\n",
       "      <td>1</td>\n",
       "      <td>CERTIFIED-WITHDRAWN</td>\n",
       "      <td>UNIVERSITY OF MICHIGAN</td>\n",
       "      <td>BIOCHEMISTS AND BIOPHYSICISTS</td>\n",
       "      <td>POSTDOCTORAL RESEARCH FELLOW</td>\n",
       "      <td>N</td>\n",
       "      <td>36067.0</td>\n",
       "      <td>2016.0</td>\n",
       "      <td>ANN ARBOR, MICHIGAN</td>\n",
       "      <td>-83.743038</td>\n",
       "      <td>42.280826</td>\n",
       "    </tr>\n",
       "    <tr>\n",
       "      <th>1</th>\n",
       "      <td>2</td>\n",
       "      <td>CERTIFIED-WITHDRAWN</td>\n",
       "      <td>GOODMAN NETWORKS, INC.</td>\n",
       "      <td>CHIEF EXECUTIVES</td>\n",
       "      <td>CHIEF OPERATING OFFICER</td>\n",
       "      <td>Y</td>\n",
       "      <td>242674.0</td>\n",
       "      <td>2016.0</td>\n",
       "      <td>PLANO, TEXAS</td>\n",
       "      <td>-96.698886</td>\n",
       "      <td>33.019843</td>\n",
       "    </tr>\n",
       "    <tr>\n",
       "      <th>2</th>\n",
       "      <td>3</td>\n",
       "      <td>CERTIFIED-WITHDRAWN</td>\n",
       "      <td>PORTS AMERICA GROUP, INC.</td>\n",
       "      <td>CHIEF EXECUTIVES</td>\n",
       "      <td>CHIEF PROCESS OFFICER</td>\n",
       "      <td>Y</td>\n",
       "      <td>193066.0</td>\n",
       "      <td>2016.0</td>\n",
       "      <td>JERSEY CITY, NEW JERSEY</td>\n",
       "      <td>-74.077642</td>\n",
       "      <td>40.728158</td>\n",
       "    </tr>\n",
       "    <tr>\n",
       "      <th>3</th>\n",
       "      <td>4</td>\n",
       "      <td>CERTIFIED-WITHDRAWN</td>\n",
       "      <td>GATES CORPORATION, A WHOLLY-OWNED SUBSIDIARY O...</td>\n",
       "      <td>CHIEF EXECUTIVES</td>\n",
       "      <td>REGIONAL PRESIDEN, AMERICAS</td>\n",
       "      <td>Y</td>\n",
       "      <td>220314.0</td>\n",
       "      <td>2016.0</td>\n",
       "      <td>DENVER, COLORADO</td>\n",
       "      <td>-104.990251</td>\n",
       "      <td>39.739236</td>\n",
       "    </tr>\n",
       "    <tr>\n",
       "      <th>4</th>\n",
       "      <td>5</td>\n",
       "      <td>WITHDRAWN</td>\n",
       "      <td>PEABODY INVESTMENTS CORP.</td>\n",
       "      <td>CHIEF EXECUTIVES</td>\n",
       "      <td>PRESIDENT MONGOLIA AND INDIA</td>\n",
       "      <td>Y</td>\n",
       "      <td>157518.4</td>\n",
       "      <td>2016.0</td>\n",
       "      <td>ST. LOUIS, MISSOURI</td>\n",
       "      <td>-90.199404</td>\n",
       "      <td>38.627003</td>\n",
       "    </tr>\n",
       "  </tbody>\n",
       "</table>\n",
       "</div>"
      ],
      "text/plain": [
       "   Unnamed: 0          CASE_STATUS  \\\n",
       "0           1  CERTIFIED-WITHDRAWN   \n",
       "1           2  CERTIFIED-WITHDRAWN   \n",
       "2           3  CERTIFIED-WITHDRAWN   \n",
       "3           4  CERTIFIED-WITHDRAWN   \n",
       "4           5            WITHDRAWN   \n",
       "\n",
       "                                       EMPLOYER_NAME  \\\n",
       "0                             UNIVERSITY OF MICHIGAN   \n",
       "1                             GOODMAN NETWORKS, INC.   \n",
       "2                          PORTS AMERICA GROUP, INC.   \n",
       "3  GATES CORPORATION, A WHOLLY-OWNED SUBSIDIARY O...   \n",
       "4                          PEABODY INVESTMENTS CORP.   \n",
       "\n",
       "                        SOC_NAME                     JOB_TITLE  \\\n",
       "0  BIOCHEMISTS AND BIOPHYSICISTS  POSTDOCTORAL RESEARCH FELLOW   \n",
       "1               CHIEF EXECUTIVES       CHIEF OPERATING OFFICER   \n",
       "2               CHIEF EXECUTIVES         CHIEF PROCESS OFFICER   \n",
       "3               CHIEF EXECUTIVES   REGIONAL PRESIDEN, AMERICAS   \n",
       "4               CHIEF EXECUTIVES  PRESIDENT MONGOLIA AND INDIA   \n",
       "\n",
       "  FULL_TIME_POSITION  PREVAILING_WAGE    YEAR                 WORKSITE  \\\n",
       "0                  N          36067.0  2016.0      ANN ARBOR, MICHIGAN   \n",
       "1                  Y         242674.0  2016.0             PLANO, TEXAS   \n",
       "2                  Y         193066.0  2016.0  JERSEY CITY, NEW JERSEY   \n",
       "3                  Y         220314.0  2016.0         DENVER, COLORADO   \n",
       "4                  Y         157518.4  2016.0      ST. LOUIS, MISSOURI   \n",
       "\n",
       "          lon        lat  \n",
       "0  -83.743038  42.280826  \n",
       "1  -96.698886  33.019843  \n",
       "2  -74.077642  40.728158  \n",
       "3 -104.990251  39.739236  \n",
       "4  -90.199404  38.627003  "
      ]
     },
     "execution_count": 4,
     "metadata": {},
     "output_type": "execute_result"
    }
   ],
   "source": [
    "data.head()"
   ]
  },
  {
   "cell_type": "markdown",
   "id": "38b4902a",
   "metadata": {},
   "source": [
    "### 6.1 Petition distributed by case statuses"
   ]
  },
  {
   "cell_type": "code",
   "execution_count": 15,
   "id": "4edd6b12",
   "metadata": {},
   "outputs": [
    {
     "data": {
      "text/plain": [
       "CERTIFIED                                             2615623\n",
       "CERTIFIED-WITHDRAWN                                    202659\n",
       "DENIED                                                  94346\n",
       "WITHDRAWN                                               89799\n",
       "PENDING QUALITY AND COMPLIANCE REVIEW - UNASSIGNED         15\n",
       "0                                                          13\n",
       "REJECTED                                                    2\n",
       "INVALIDATED                                                 1\n",
       "Name: CASE_STATUS, dtype: int64"
      ]
     },
     "execution_count": 15,
     "metadata": {},
     "output_type": "execute_result"
    }
   ],
   "source": [
    "data[\"CASE_STATUS\"].value_counts()"
   ]
  },
  {
   "cell_type": "markdown",
   "id": "3648f0b9",
   "metadata": {},
   "source": [
    "### 6.2 Top employers filing the petitions\n"
   ]
  },
  {
   "cell_type": "code",
   "execution_count": 16,
   "id": "ff68574e",
   "metadata": {},
   "outputs": [
    {
     "data": {
      "text/plain": [
       "INFOSYS LIMITED                      130592\n",
       "TATA CONSULTANCY SERVICES LIMITED     64726\n",
       "WIPRO LIMITED                         48117\n",
       "DELOITTE CONSULTING LLP               36742\n",
       "IBM INDIA PRIVATE LIMITED             34219\n",
       "Name: EMPLOYER_NAME, dtype: int64"
      ]
     },
     "execution_count": 16,
     "metadata": {},
     "output_type": "execute_result"
    }
   ],
   "source": [
    "data[\"EMPLOYER_NAME\"].value_counts().head()"
   ]
  },
  {
   "cell_type": "markdown",
   "id": "2284717f",
   "metadata": {},
   "source": [
    "### 6.3 Top 15 companies that filed the most visa application"
   ]
  },
  {
   "cell_type": "code",
   "execution_count": 17,
   "id": "ba93786b",
   "metadata": {},
   "outputs": [
    {
     "data": {
      "text/plain": [
       "INFOSYS LIMITED                                    130592\n",
       "TATA CONSULTANCY SERVICES LIMITED                   64726\n",
       "WIPRO LIMITED                                       48117\n",
       "DELOITTE CONSULTING LLP                             36742\n",
       "IBM INDIA PRIVATE LIMITED                           34219\n",
       "ACCENTURE LLP                                       33447\n",
       "MICROSOFT CORPORATION                               25576\n",
       "HCL AMERICA, INC.                                   22678\n",
       "ERNST & YOUNG U.S. LLP                              18232\n",
       "COGNIZANT TECHNOLOGY SOLUTIONS U.S. CORPORATION     17528\n",
       "LARSEN & TOUBRO INFOTECH LIMITED                    17457\n",
       "CAPGEMINI AMERICA INC                               16725\n",
       "GOOGLE INC.                                         16473\n",
       "IBM CORPORATION                                     13276\n",
       "IGATE TECHNOLOGIES INC.                             12564\n",
       "Name: EMPLOYER_NAME, dtype: int64"
      ]
     },
     "execution_count": 17,
     "metadata": {},
     "output_type": "execute_result"
    }
   ],
   "source": [
    "data[\"EMPLOYER_NAME\"].value_counts().head(15)"
   ]
  },
  {
   "cell_type": "markdown",
   "id": "ab36435a",
   "metadata": {},
   "source": [
    "### 3.Top employers granting maximum prevailing wages"
   ]
  },
  {
   "cell_type": "code",
   "execution_count": 18,
   "id": "25bce3af",
   "metadata": {},
   "outputs": [
    {
     "data": {
      "text/html": [
       "<div>\n",
       "<style scoped>\n",
       "    .dataframe tbody tr th:only-of-type {\n",
       "        vertical-align: middle;\n",
       "    }\n",
       "\n",
       "    .dataframe tbody tr th {\n",
       "        vertical-align: top;\n",
       "    }\n",
       "\n",
       "    .dataframe thead th {\n",
       "        text-align: right;\n",
       "    }\n",
       "</style>\n",
       "<table border=\"1\" class=\"dataframe\">\n",
       "  <thead>\n",
       "    <tr style=\"text-align: right;\">\n",
       "      <th></th>\n",
       "      <th>MAX_PREVAILING_WAGE</th>\n",
       "    </tr>\n",
       "    <tr>\n",
       "      <th>EMPLOYER_NAME</th>\n",
       "      <th></th>\n",
       "    </tr>\n",
       "  </thead>\n",
       "  <tbody>\n",
       "    <tr>\n",
       "      <th>GUARDIAN HEALTHCARE PROVIDERS, INC.</th>\n",
       "      <td>6.997607e+09</td>\n",
       "    </tr>\n",
       "    <tr>\n",
       "      <th>SCIVANTAGE, INC.</th>\n",
       "      <td>1.007814e+09</td>\n",
       "    </tr>\n",
       "    <tr>\n",
       "      <th>DISCOVER PRODUCTS INC.</th>\n",
       "      <td>8.201323e+08</td>\n",
       "    </tr>\n",
       "    <tr>\n",
       "      <th>IDEXCEL, INC.</th>\n",
       "      <td>7.099999e+08</td>\n",
       "    </tr>\n",
       "    <tr>\n",
       "      <th>COMMONHEALTH ACTION</th>\n",
       "      <td>6.579000e+08</td>\n",
       "    </tr>\n",
       "  </tbody>\n",
       "</table>\n",
       "</div>"
      ],
      "text/plain": [
       "                                     MAX_PREVAILING_WAGE\n",
       "EMPLOYER_NAME                                           \n",
       "GUARDIAN HEALTHCARE PROVIDERS, INC.         6.997607e+09\n",
       "SCIVANTAGE, INC.                            1.007814e+09\n",
       "DISCOVER PRODUCTS INC.                      8.201323e+08\n",
       "IDEXCEL, INC.                               7.099999e+08\n",
       "COMMONHEALTH ACTION                         6.579000e+08"
      ]
     },
     "execution_count": 18,
     "metadata": {},
     "output_type": "execute_result"
    }
   ],
   "source": [
    "max_data=data.groupby('EMPLOYER_NAME')['PREVAILING_WAGE'].max().sort_values(ascending=False)\n",
    "sorted_data = pd.DataFrame({'MAX_PREVAILING_WAGE': max_data})\n",
    "sorted_data.head(5)"
   ]
  },
  {
   "cell_type": "markdown",
   "id": "3d9131db",
   "metadata": {},
   "source": [
    "### 4. Top 20 states filing highest visa petitions"
   ]
  },
  {
   "cell_type": "code",
   "execution_count": 19,
   "id": "5a6ae8c3",
   "metadata": {},
   "outputs": [
    {
     "data": {
      "text/plain": [
       "CALIFORNIA        559942\n",
       "TEXAS             294455\n",
       "NEW YORK          291412\n",
       "NEW JERSEY        214078\n",
       "ILLINOIS          160814\n",
       "MASSACHUSETTS     116466\n",
       "PENNSYLVANIA      109960\n",
       "FLORIDA           105773\n",
       "GEORGIA           103168\n",
       "WASHINGTON        102801\n",
       "VIRGINIA           90028\n",
       "MICHIGAN           82964\n",
       "NORTH CAROLINA     79672\n",
       "OHIO               76575\n",
       "MARYLAND           56257\n",
       "CONNECTICUT        50253\n",
       "MINNESOTA          48686\n",
       "ARIZONA            42054\n",
       "MISSOURI           34813\n",
       "WISCONSIN          32672\n",
       "Name: STATE, dtype: int64"
      ]
     },
     "execution_count": 19,
     "metadata": {},
     "output_type": "execute_result"
    }
   ],
   "source": [
    "data['STATE'] = data['WORKSITE'].str.split(',').str[-1].str.strip()\n",
    "data['STATE'].value_counts().head(20)"
   ]
  },
  {
   "cell_type": "markdown",
   "id": "5bd1418c",
   "metadata": {},
   "source": [
    "### 5.Petition distribution by year"
   ]
  },
  {
   "cell_type": "code",
   "execution_count": 20,
   "id": "4f7f55bf",
   "metadata": {},
   "outputs": [
    {
     "data": {
      "text/plain": [
       "2016.0    647803\n",
       "2015.0    618727\n",
       "2014.0    519427\n",
       "2013.0    442114\n",
       "2012.0    415607\n",
       "2011.0    358767\n",
       "0.0           13\n",
       "Name: YEAR, dtype: int64"
      ]
     },
     "execution_count": 20,
     "metadata": {},
     "output_type": "execute_result"
    }
   ],
   "source": [
    "data[\"YEAR\"].value_counts()"
   ]
  },
  {
   "cell_type": "markdown",
   "id": "9adfc464",
   "metadata": {},
   "source": [
    "### 6. Number of visa petitions denied"
   ]
  },
  {
   "cell_type": "code",
   "execution_count": 21,
   "id": "04ee117e",
   "metadata": {},
   "outputs": [
    {
     "data": {
      "text/plain": [
       "94346"
      ]
     },
     "execution_count": 21,
     "metadata": {},
     "output_type": "execute_result"
    }
   ],
   "source": [
    "data[data[\"CASE_STATUS\"]==\"DENIED\"].shape[0]"
   ]
  },
  {
   "cell_type": "markdown",
   "id": "7f17ca45",
   "metadata": {},
   "source": [
    "### 7.Rate of visas denied from last 5 years\n"
   ]
  },
  {
   "cell_type": "code",
   "execution_count": 67,
   "id": "04f549c9",
   "metadata": {},
   "outputs": [
    {
     "data": {
      "text/html": [
       "<div>\n",
       "<style scoped>\n",
       "    .dataframe tbody tr th:only-of-type {\n",
       "        vertical-align: middle;\n",
       "    }\n",
       "\n",
       "    .dataframe tbody tr th {\n",
       "        vertical-align: top;\n",
       "    }\n",
       "\n",
       "    .dataframe thead th {\n",
       "        text-align: right;\n",
       "    }\n",
       "</style>\n",
       "<table border=\"1\" class=\"dataframe\">\n",
       "  <thead>\n",
       "    <tr style=\"text-align: right;\">\n",
       "      <th></th>\n",
       "      <th>Denial_Rate</th>\n",
       "    </tr>\n",
       "  </thead>\n",
       "  <tbody>\n",
       "    <tr>\n",
       "      <th>2016.0</th>\n",
       "      <td>1.416326</td>\n",
       "    </tr>\n",
       "    <tr>\n",
       "      <th>2015.0</th>\n",
       "      <td>1.765399</td>\n",
       "    </tr>\n",
       "    <tr>\n",
       "      <th>2014.0</th>\n",
       "      <td>2.290216</td>\n",
       "    </tr>\n",
       "    <tr>\n",
       "      <th>2013.0</th>\n",
       "      <td>2.742732</td>\n",
       "    </tr>\n",
       "    <tr>\n",
       "      <th>2012.0</th>\n",
       "      <td>5.075949</td>\n",
       "    </tr>\n",
       "  </tbody>\n",
       "</table>\n",
       "</div>"
      ],
      "text/plain": [
       "        Denial_Rate\n",
       "2016.0     1.416326\n",
       "2015.0     1.765399\n",
       "2014.0     2.290216\n",
       "2013.0     2.742732\n",
       "2012.0     5.075949"
      ]
     },
     "execution_count": 67,
     "metadata": {},
     "output_type": "execute_result"
    }
   ],
   "source": [
    "denied_cases =data[data['CASE_STATUS'] == 'DENIED']\n",
    "deny_count=denied_cases[\"YEAR\"].value_counts()\n",
    "total_count=data[\"YEAR\"].value_counts()\n",
    "rate=(deny_count/total_count)*100\n",
    "rate_data=pd.DataFrame({'Denial_Rate': rate})\n",
    "rate_data.dropna(inplace=True)\n",
    "rate_data.tail(5).iloc[::-1]"
   ]
  },
  {
   "cell_type": "markdown",
   "id": "dc894867",
   "metadata": {},
   "source": [
    "### 8.Number of visa petitions filed by states"
   ]
  },
  {
   "cell_type": "code",
   "execution_count": 24,
   "id": "57b540fd",
   "metadata": {},
   "outputs": [
    {
     "data": {
      "text/plain": [
       "CALIFORNIA              559942\n",
       "TEXAS                   294455\n",
       "NEW YORK                291412\n",
       "NEW JERSEY              214078\n",
       "ILLINOIS                160814\n",
       "MASSACHUSETTS           116466\n",
       "PENNSYLVANIA            109960\n",
       "FLORIDA                 105773\n",
       "GEORGIA                 103168\n",
       "WASHINGTON              102801\n",
       "VIRGINIA                 90028\n",
       "MICHIGAN                 82964\n",
       "NORTH CAROLINA           79672\n",
       "OHIO                     76575\n",
       "MARYLAND                 56257\n",
       "CONNECTICUT              50253\n",
       "MINNESOTA                48686\n",
       "ARIZONA                  42054\n",
       "MISSOURI                 34813\n",
       "WISCONSIN                32672\n",
       "COLORADO                 32038\n",
       "INDIANA                  30516\n",
       "TENNESSEE                27673\n",
       "OREGON                   23790\n",
       "DISTRICT OF COLUMBIA     22708\n",
       "DELAWARE                 18138\n",
       "IOWA                     16743\n",
       "ARKANSAS                 14762\n",
       "KANSAS                   13782\n",
       "UTAH                     13107\n",
       "SOUTH CAROLINA           12932\n",
       "KENTUCKY                 12702\n",
       "RHODE ISLAND             11717\n",
       "LOUISIANA                11669\n",
       "OKLAHOMA                 10597\n",
       "ALABAMA                  10253\n",
       "NEW HAMPSHIRE             9929\n",
       "NEBRASKA                  9256\n",
       "NEVADA                    7448\n",
       "NEW MEXICO                5541\n",
       "MISSISSIPPI               4270\n",
       "IDAHO                     4191\n",
       "MAINE                     3918\n",
       "HAWAII                    3752\n",
       "NA                        3604\n",
       "WEST VIRGINIA             3079\n",
       "NORTH DAKOTA              2927\n",
       "VERMONT                   1941\n",
       "SOUTH DAKOTA              1902\n",
       "PUERTO RICO               1452\n",
       "ALASKA                    1396\n",
       "MONTANA                    986\n",
       "WYOMING                    896\n",
       "Name: STATE, dtype: int64"
      ]
     },
     "execution_count": 24,
     "metadata": {},
     "output_type": "execute_result"
    }
   ],
   "source": [
    "data['STATE'] = data['WORKSITE'].str.split(',').str[-1].str.strip()\n",
    "data['STATE'].value_counts()"
   ]
  },
  {
   "cell_type": "markdown",
   "id": "5a5bb40f",
   "metadata": {},
   "source": [
    "### 9.Rate of denial of visa petition by the states"
   ]
  },
  {
   "cell_type": "code",
   "execution_count": 49,
   "id": "2c54ea46",
   "metadata": {},
   "outputs": [
    {
     "data": {
      "text/html": [
       "<div>\n",
       "<style scoped>\n",
       "    .dataframe tbody tr th:only-of-type {\n",
       "        vertical-align: middle;\n",
       "    }\n",
       "\n",
       "    .dataframe tbody tr th {\n",
       "        vertical-align: top;\n",
       "    }\n",
       "\n",
       "    .dataframe thead th {\n",
       "        text-align: right;\n",
       "    }\n",
       "</style>\n",
       "<table border=\"1\" class=\"dataframe\">\n",
       "  <thead>\n",
       "    <tr style=\"text-align: right;\">\n",
       "      <th></th>\n",
       "      <th>Denial_Rate</th>\n",
       "    </tr>\n",
       "  </thead>\n",
       "  <tbody>\n",
       "    <tr>\n",
       "      <th>ALABAMA</th>\n",
       "      <td>5.091193</td>\n",
       "    </tr>\n",
       "    <tr>\n",
       "      <th>ALASKA</th>\n",
       "      <td>11.318052</td>\n",
       "    </tr>\n",
       "    <tr>\n",
       "      <th>ARIZONA</th>\n",
       "      <td>2.751225</td>\n",
       "    </tr>\n",
       "    <tr>\n",
       "      <th>ARKANSAS</th>\n",
       "      <td>2.255792</td>\n",
       "    </tr>\n",
       "    <tr>\n",
       "      <th>CALIFORNIA</th>\n",
       "      <td>3.168185</td>\n",
       "    </tr>\n",
       "    <tr>\n",
       "      <th>COLORADO</th>\n",
       "      <td>3.567638</td>\n",
       "    </tr>\n",
       "    <tr>\n",
       "      <th>CONNECTICUT</th>\n",
       "      <td>2.459555</td>\n",
       "    </tr>\n",
       "    <tr>\n",
       "      <th>DELAWARE</th>\n",
       "      <td>2.023376</td>\n",
       "    </tr>\n",
       "    <tr>\n",
       "      <th>DISTRICT OF COLUMBIA</th>\n",
       "      <td>5.205214</td>\n",
       "    </tr>\n",
       "    <tr>\n",
       "      <th>FLORIDA</th>\n",
       "      <td>5.272612</td>\n",
       "    </tr>\n",
       "    <tr>\n",
       "      <th>GEORGIA</th>\n",
       "      <td>2.671371</td>\n",
       "    </tr>\n",
       "    <tr>\n",
       "      <th>HAWAII</th>\n",
       "      <td>10.394456</td>\n",
       "    </tr>\n",
       "    <tr>\n",
       "      <th>IDAHO</th>\n",
       "      <td>4.628967</td>\n",
       "    </tr>\n",
       "    <tr>\n",
       "      <th>ILLINOIS</th>\n",
       "      <td>2.453145</td>\n",
       "    </tr>\n",
       "    <tr>\n",
       "      <th>INDIANA</th>\n",
       "      <td>2.726439</td>\n",
       "    </tr>\n",
       "    <tr>\n",
       "      <th>IOWA</th>\n",
       "      <td>2.610046</td>\n",
       "    </tr>\n",
       "    <tr>\n",
       "      <th>KANSAS</th>\n",
       "      <td>3.156291</td>\n",
       "    </tr>\n",
       "    <tr>\n",
       "      <th>KENTUCKY</th>\n",
       "      <td>3.369548</td>\n",
       "    </tr>\n",
       "    <tr>\n",
       "      <th>LOUISIANA</th>\n",
       "      <td>5.304653</td>\n",
       "    </tr>\n",
       "    <tr>\n",
       "      <th>MAINE</th>\n",
       "      <td>3.471159</td>\n",
       "    </tr>\n",
       "    <tr>\n",
       "      <th>MARYLAND</th>\n",
       "      <td>3.741757</td>\n",
       "    </tr>\n",
       "    <tr>\n",
       "      <th>MASSACHUSETTS</th>\n",
       "      <td>3.115931</td>\n",
       "    </tr>\n",
       "    <tr>\n",
       "      <th>MICHIGAN</th>\n",
       "      <td>2.699966</td>\n",
       "    </tr>\n",
       "    <tr>\n",
       "      <th>MINNESOTA</th>\n",
       "      <td>2.310726</td>\n",
       "    </tr>\n",
       "    <tr>\n",
       "      <th>MISSISSIPPI</th>\n",
       "      <td>6.510539</td>\n",
       "    </tr>\n",
       "    <tr>\n",
       "      <th>MISSOURI</th>\n",
       "      <td>2.318100</td>\n",
       "    </tr>\n",
       "    <tr>\n",
       "      <th>MONTANA</th>\n",
       "      <td>8.519270</td>\n",
       "    </tr>\n",
       "    <tr>\n",
       "      <th>NA</th>\n",
       "      <td>20.227525</td>\n",
       "    </tr>\n",
       "    <tr>\n",
       "      <th>NEBRASKA</th>\n",
       "      <td>3.035869</td>\n",
       "    </tr>\n",
       "    <tr>\n",
       "      <th>NEVADA</th>\n",
       "      <td>8.096133</td>\n",
       "    </tr>\n",
       "    <tr>\n",
       "      <th>NEW HAMPSHIRE</th>\n",
       "      <td>2.266089</td>\n",
       "    </tr>\n",
       "    <tr>\n",
       "      <th>NEW JERSEY</th>\n",
       "      <td>2.294958</td>\n",
       "    </tr>\n",
       "    <tr>\n",
       "      <th>NEW MEXICO</th>\n",
       "      <td>5.775131</td>\n",
       "    </tr>\n",
       "    <tr>\n",
       "      <th>NEW YORK</th>\n",
       "      <td>4.331325</td>\n",
       "    </tr>\n",
       "    <tr>\n",
       "      <th>NORTH CAROLINA</th>\n",
       "      <td>2.303193</td>\n",
       "    </tr>\n",
       "    <tr>\n",
       "      <th>NORTH DAKOTA</th>\n",
       "      <td>4.953878</td>\n",
       "    </tr>\n",
       "    <tr>\n",
       "      <th>OHIO</th>\n",
       "      <td>2.442050</td>\n",
       "    </tr>\n",
       "    <tr>\n",
       "      <th>OKLAHOMA</th>\n",
       "      <td>4.435218</td>\n",
       "    </tr>\n",
       "    <tr>\n",
       "      <th>OREGON</th>\n",
       "      <td>2.681799</td>\n",
       "    </tr>\n",
       "    <tr>\n",
       "      <th>PENNSYLVANIA</th>\n",
       "      <td>2.496362</td>\n",
       "    </tr>\n",
       "    <tr>\n",
       "      <th>PUERTO RICO</th>\n",
       "      <td>15.358127</td>\n",
       "    </tr>\n",
       "    <tr>\n",
       "      <th>RHODE ISLAND</th>\n",
       "      <td>2.372621</td>\n",
       "    </tr>\n",
       "    <tr>\n",
       "      <th>SOUTH CAROLINA</th>\n",
       "      <td>4.206619</td>\n",
       "    </tr>\n",
       "    <tr>\n",
       "      <th>SOUTH DAKOTA</th>\n",
       "      <td>4.679285</td>\n",
       "    </tr>\n",
       "    <tr>\n",
       "      <th>TENNESSEE</th>\n",
       "      <td>3.100495</td>\n",
       "    </tr>\n",
       "    <tr>\n",
       "      <th>TEXAS</th>\n",
       "      <td>2.917933</td>\n",
       "    </tr>\n",
       "    <tr>\n",
       "      <th>UTAH</th>\n",
       "      <td>4.386969</td>\n",
       "    </tr>\n",
       "    <tr>\n",
       "      <th>VERMONT</th>\n",
       "      <td>5.461103</td>\n",
       "    </tr>\n",
       "    <tr>\n",
       "      <th>VIRGINIA</th>\n",
       "      <td>3.170125</td>\n",
       "    </tr>\n",
       "    <tr>\n",
       "      <th>WASHINGTON</th>\n",
       "      <td>1.946479</td>\n",
       "    </tr>\n",
       "    <tr>\n",
       "      <th>WEST VIRGINIA</th>\n",
       "      <td>4.969146</td>\n",
       "    </tr>\n",
       "    <tr>\n",
       "      <th>WISCONSIN</th>\n",
       "      <td>2.212904</td>\n",
       "    </tr>\n",
       "    <tr>\n",
       "      <th>WYOMING</th>\n",
       "      <td>11.049107</td>\n",
       "    </tr>\n",
       "  </tbody>\n",
       "</table>\n",
       "</div>"
      ],
      "text/plain": [
       "                      Denial_Rate\n",
       "ALABAMA                  5.091193\n",
       "ALASKA                  11.318052\n",
       "ARIZONA                  2.751225\n",
       "ARKANSAS                 2.255792\n",
       "CALIFORNIA               3.168185\n",
       "COLORADO                 3.567638\n",
       "CONNECTICUT              2.459555\n",
       "DELAWARE                 2.023376\n",
       "DISTRICT OF COLUMBIA     5.205214\n",
       "FLORIDA                  5.272612\n",
       "GEORGIA                  2.671371\n",
       "HAWAII                  10.394456\n",
       "IDAHO                    4.628967\n",
       "ILLINOIS                 2.453145\n",
       "INDIANA                  2.726439\n",
       "IOWA                     2.610046\n",
       "KANSAS                   3.156291\n",
       "KENTUCKY                 3.369548\n",
       "LOUISIANA                5.304653\n",
       "MAINE                    3.471159\n",
       "MARYLAND                 3.741757\n",
       "MASSACHUSETTS            3.115931\n",
       "MICHIGAN                 2.699966\n",
       "MINNESOTA                2.310726\n",
       "MISSISSIPPI              6.510539\n",
       "MISSOURI                 2.318100\n",
       "MONTANA                  8.519270\n",
       "NA                      20.227525\n",
       "NEBRASKA                 3.035869\n",
       "NEVADA                   8.096133\n",
       "NEW HAMPSHIRE            2.266089\n",
       "NEW JERSEY               2.294958\n",
       "NEW MEXICO               5.775131\n",
       "NEW YORK                 4.331325\n",
       "NORTH CAROLINA           2.303193\n",
       "NORTH DAKOTA             4.953878\n",
       "OHIO                     2.442050\n",
       "OKLAHOMA                 4.435218\n",
       "OREGON                   2.681799\n",
       "PENNSYLVANIA             2.496362\n",
       "PUERTO RICO             15.358127\n",
       "RHODE ISLAND             2.372621\n",
       "SOUTH CAROLINA           4.206619\n",
       "SOUTH DAKOTA             4.679285\n",
       "TENNESSEE                3.100495\n",
       "TEXAS                    2.917933\n",
       "UTAH                     4.386969\n",
       "VERMONT                  5.461103\n",
       "VIRGINIA                 3.170125\n",
       "WASHINGTON               1.946479\n",
       "WEST VIRGINIA            4.969146\n",
       "WISCONSIN                2.212904\n",
       "WYOMING                 11.049107"
      ]
     },
     "execution_count": 49,
     "metadata": {},
     "output_type": "execute_result"
    }
   ],
   "source": [
    "denied_cases =data[data['CASE_STATUS'] == 'DENIED']\n",
    "deny_count=denied_cases['STATE'].value_counts()\n",
    "total_count=data['STATE'].value_counts()\n",
    "rate=(deny_count/total_count)*100\n",
    "rate_data=pd.DataFrame({'Denial_Rate': rate})\n",
    "rate_data"
   ]
  },
  {
   "cell_type": "markdown",
   "id": "3eaeab19",
   "metadata": {},
   "source": [
    "### 10. Top 25 job titles"
   ]
  },
  {
   "cell_type": "code",
   "execution_count": 26,
   "id": "ab74c4d1",
   "metadata": {},
   "outputs": [
    {
     "data": {
      "text/plain": [
       "PROGRAMMER ANALYST             249038\n",
       "SOFTWARE ENGINEER              121307\n",
       "COMPUTER PROGRAMMER             70570\n",
       "SYSTEMS ANALYST                 61965\n",
       "SOFTWARE DEVELOPER              42907\n",
       "BUSINESS ANALYST                39681\n",
       "COMPUTER SYSTEMS ANALYST        35086\n",
       "TECHNOLOGY LEAD - US            28350\n",
       "SENIOR SOFTWARE ENGINEER        27133\n",
       "TECHNOLOGY ANALYST - US         26055\n",
       "ASSISTANT PROFESSOR             25265\n",
       "SENIOR CONSULTANT               24904\n",
       "CONSULTANT                      23081\n",
       "PHYSICAL THERAPIST              20207\n",
       "PROJECT MANAGER                 20172\n",
       "DATABASE ADMINISTRATOR          16665\n",
       "ACCOUNTANT                      14048\n",
       "COMPUTER PROGRAMMER ANALYST     13634\n",
       "RESEARCH ASSOCIATE              13623\n",
       "DEVELOPER                       12909\n",
       "ASSOCIATE                       12502\n",
       "ANALYST                         11751\n",
       "LEAD ENGINEER                   11157\n",
       "COMPUTER SYSTEMS ENGINEER       11090\n",
       "SENIOR SOFTWARE DEVELOPER       10208\n",
       "Name: JOB_TITLE, dtype: int64"
      ]
     },
     "execution_count": 26,
     "metadata": {},
     "output_type": "execute_result"
    }
   ],
   "source": [
    "data[\"JOB_TITLE\"].value_counts().head(25)"
   ]
  },
  {
   "cell_type": "markdown",
   "id": "a9b437bc",
   "metadata": {},
   "source": [
    "### 11.Top 10 occupations with the highest wages"
   ]
  },
  {
   "cell_type": "code",
   "execution_count": 27,
   "id": "e8b1d6db",
   "metadata": {},
   "outputs": [
    {
     "data": {
      "text/html": [
       "<div>\n",
       "<style scoped>\n",
       "    .dataframe tbody tr th:only-of-type {\n",
       "        vertical-align: middle;\n",
       "    }\n",
       "\n",
       "    .dataframe tbody tr th {\n",
       "        vertical-align: top;\n",
       "    }\n",
       "\n",
       "    .dataframe thead th {\n",
       "        text-align: right;\n",
       "    }\n",
       "</style>\n",
       "<table border=\"1\" class=\"dataframe\">\n",
       "  <thead>\n",
       "    <tr style=\"text-align: right;\">\n",
       "      <th></th>\n",
       "      <th>MAX_PREVAILING_WAGE</th>\n",
       "    </tr>\n",
       "    <tr>\n",
       "      <th>JOB_TITLE</th>\n",
       "      <th></th>\n",
       "    </tr>\n",
       "  </thead>\n",
       "  <tbody>\n",
       "    <tr>\n",
       "      <th>PHYSICAL THERAPISTS</th>\n",
       "      <td>6.997607e+09</td>\n",
       "    </tr>\n",
       "    <tr>\n",
       "      <th>SOFTWARE DEVELOPER</th>\n",
       "      <td>1.007814e+09</td>\n",
       "    </tr>\n",
       "    <tr>\n",
       "      <th>PROJECT MANAGER</th>\n",
       "      <td>8.201323e+08</td>\n",
       "    </tr>\n",
       "    <tr>\n",
       "      <th>.NET DEVELOPER</th>\n",
       "      <td>7.099999e+08</td>\n",
       "    </tr>\n",
       "    <tr>\n",
       "      <th>PROGRAM MANAGER (POSITIVE PATHWAYS)</th>\n",
       "      <td>6.579000e+08</td>\n",
       "    </tr>\n",
       "    <tr>\n",
       "      <th>PROGRAMMER/ANALYST</th>\n",
       "      <td>6.169317e+08</td>\n",
       "    </tr>\n",
       "    <tr>\n",
       "      <th>RESEARCH ASSOCIATE</th>\n",
       "      <td>4.134726e+08</td>\n",
       "    </tr>\n",
       "    <tr>\n",
       "      <th>MANAGER, SOFTWARE ENGINEERING</th>\n",
       "      <td>4.103154e+08</td>\n",
       "    </tr>\n",
       "    <tr>\n",
       "      <th>MANAGING DIRECTOR, EQUITY DERIVATIVES</th>\n",
       "      <td>4.066379e+08</td>\n",
       "    </tr>\n",
       "    <tr>\n",
       "      <th>INTERNIST</th>\n",
       "      <td>3.893760e+08</td>\n",
       "    </tr>\n",
       "  </tbody>\n",
       "</table>\n",
       "</div>"
      ],
      "text/plain": [
       "                                       MAX_PREVAILING_WAGE\n",
       "JOB_TITLE                                                 \n",
       "PHYSICAL THERAPISTS                           6.997607e+09\n",
       "SOFTWARE DEVELOPER                            1.007814e+09\n",
       "PROJECT MANAGER                               8.201323e+08\n",
       ".NET DEVELOPER                                7.099999e+08\n",
       "PROGRAM MANAGER (POSITIVE PATHWAYS)           6.579000e+08\n",
       "PROGRAMMER/ANALYST                            6.169317e+08\n",
       "RESEARCH ASSOCIATE                            4.134726e+08\n",
       "MANAGER, SOFTWARE ENGINEERING                 4.103154e+08\n",
       "MANAGING DIRECTOR, EQUITY DERIVATIVES         4.066379e+08\n",
       "INTERNIST                                     3.893760e+08"
      ]
     },
     "execution_count": 27,
     "metadata": {},
     "output_type": "execute_result"
    }
   ],
   "source": [
    "max_data=data.groupby('JOB_TITLE')['PREVAILING_WAGE'].max().sort_values(ascending=False)\n",
    "sorted_data = pd.DataFrame({'MAX_PREVAILING_WAGE': max_data})\n",
    "sorted_data.head(10)"
   ]
  },
  {
   "cell_type": "markdown",
   "id": "76ad06dd",
   "metadata": {},
   "source": [
    "### 12 To analyse the fraction of full-time and part-time workers"
   ]
  },
  {
   "cell_type": "code",
   "execution_count": 32,
   "id": "4269c0de",
   "metadata": {},
   "outputs": [
    {
     "data": {
      "text/plain": [
       "Y    2576111\n",
       "N     426332\n",
       "0         15\n",
       "Name: FULL_TIME_POSITION, dtype: int64"
      ]
     },
     "execution_count": 32,
     "metadata": {},
     "output_type": "execute_result"
    }
   ],
   "source": [
    "data[\"FULL_TIME_POSITION\"].value_counts()"
   ]
  },
  {
   "cell_type": "code",
   "execution_count": 33,
   "id": "75b835bc",
   "metadata": {},
   "outputs": [],
   "source": [
    "data[\"FULL_TIME_POSITION\"].replace({0:\"N\"},inplace=True)"
   ]
  },
  {
   "cell_type": "code",
   "execution_count": 34,
   "id": "223616ad",
   "metadata": {},
   "outputs": [
    {
     "data": {
      "text/plain": [
       "Y    2576111\n",
       "N     426347\n",
       "Name: FULL_TIME_POSITION, dtype: int64"
      ]
     },
     "execution_count": 34,
     "metadata": {},
     "output_type": "execute_result"
    }
   ],
   "source": [
    "data[\"FULL_TIME_POSITION\"].value_counts()"
   ]
  },
  {
   "cell_type": "code",
   "execution_count": 35,
   "id": "306f0018",
   "metadata": {},
   "outputs": [
    {
     "data": {
      "text/html": [
       "<div>\n",
       "<style scoped>\n",
       "    .dataframe tbody tr th:only-of-type {\n",
       "        vertical-align: middle;\n",
       "    }\n",
       "\n",
       "    .dataframe tbody tr th {\n",
       "        vertical-align: top;\n",
       "    }\n",
       "\n",
       "    .dataframe thead th {\n",
       "        text-align: right;\n",
       "    }\n",
       "</style>\n",
       "<table border=\"1\" class=\"dataframe\">\n",
       "  <thead>\n",
       "    <tr style=\"text-align: right;\">\n",
       "      <th></th>\n",
       "      <th>Worker Type</th>\n",
       "      <th>Fraction</th>\n",
       "    </tr>\n",
       "  </thead>\n",
       "  <tbody>\n",
       "    <tr>\n",
       "      <th>Y</th>\n",
       "      <td>Full-time</td>\n",
       "      <td>0.858001</td>\n",
       "    </tr>\n",
       "    <tr>\n",
       "      <th>N</th>\n",
       "      <td>Part-time</td>\n",
       "      <td>0.141999</td>\n",
       "    </tr>\n",
       "  </tbody>\n",
       "</table>\n",
       "</div>"
      ],
      "text/plain": [
       "  Worker Type  Fraction\n",
       "Y   Full-time  0.858001\n",
       "N   Part-time  0.141999"
      ]
     },
     "execution_count": 35,
     "metadata": {},
     "output_type": "execute_result"
    }
   ],
   "source": [
    "count=data[\"FULL_TIME_POSITION\"].value_counts()\n",
    "total=data[\"FULL_TIME_POSITION\"].value_counts().sum()\n",
    "fra=count/total\n",
    "fractions_df = pd.DataFrame({'Worker Type': ['Full-time', 'Part-time'],\n",
    "                             'Fraction': fra})\n",
    "fractions_df"
   ]
  },
  {
   "cell_type": "code",
   "execution_count": null,
   "id": "4b9fac34",
   "metadata": {},
   "outputs": [],
   "source": []
  }
 ],
 "metadata": {
  "kernelspec": {
   "display_name": "Python 3 (ipykernel)",
   "language": "python",
   "name": "python3"
  },
  "language_info": {
   "codemirror_mode": {
    "name": "ipython",
    "version": 3
   },
   "file_extension": ".py",
   "mimetype": "text/x-python",
   "name": "python",
   "nbconvert_exporter": "python",
   "pygments_lexer": "ipython3",
   "version": "3.10.9"
  }
 },
 "nbformat": 4,
 "nbformat_minor": 5
}
